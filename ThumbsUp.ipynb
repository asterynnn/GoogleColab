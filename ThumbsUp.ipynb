{
  "cells": [
    {
      "cell_type": "markdown",
      "metadata": {
        "id": "view-in-github",
        "colab_type": "text"
      },
      "source": [
        "<a href=\"https://colab.research.google.com/github/asterynnn/GoogleColab/blob/main/ThumbsUp.ipynb\" target=\"_parent\"><img src=\"https://colab.research.google.com/assets/colab-badge.svg\" alt=\"Open In Colab\"/></a>"
      ]
    },
    {
      "cell_type": "markdown",
      "source": [
        "-----------\n",
        "Imports\n",
        "-----------"
      ],
      "metadata": {
        "id": "E79pcDIbjERJ"
      }
    },
    {
      "cell_type": "code",
      "source": [
        "!sudo apt-get install msttcorefonts"
      ],
      "metadata": {
        "id": "rVnkBaML216p"
      },
      "execution_count": null,
      "outputs": []
    },
    {
      "cell_type": "code",
      "source": [
        "! pip uninstall -qq matplotlib\n",
        "! pip install -qq matplotlib==1.5.3\n",
        "! pip uninstall -qq matplotlib\n",
        "! pip install -qq matplotlib==3.2.2"
      ],
      "metadata": {
        "id": "FEVfXsM43GQ-"
      },
      "execution_count": null,
      "outputs": []
    },
    {
      "cell_type": "code",
      "source": [
        "import matplotlib.pyplot as plt\n",
        "plt.rcParams['font.family'] = 'serif'\n",
        "plt.rcParams['font.serif'] = ['Times New Roman'] + plt.rcParams['font.serif']"
      ],
      "metadata": {
        "id": "9YUQipHg4iSb"
      },
      "execution_count": null,
      "outputs": []
    },
    {
      "cell_type": "code",
      "execution_count": null,
      "metadata": {
        "id": "V99yChAwgn-B"
      },
      "outputs": [],
      "source": [
        "import pandas as pd\n",
        "import urllib.request\n",
        "from PIL import Image\n",
        "import os\n",
        "# import matplotlib.pyplot as plt\n",
        "import seaborn as sb\n",
        "import numpy as np\n",
        "# from sklearn import metrics, preprocessing\n",
        "# from sklearn.model_selection import train_test_split\n",
        "# from sklearn.linear_model import LinearRegression\n",
        "# from sklearn.metrics import r2_score, mean_squared_error\n",
        "# from sklearn.feature_selection import mutual_info_classif\n",
        "# from sklearn.linear_model import LogisticRegression\n",
        "from google.colab import files\n",
        "\n",
        "# !wget https://github.com/nickhass3/youtube-analytics/raw/main/data/Aggregated_Metrics_By_Country_And_Subscriber_Status.csv\n",
        "# !wget https://raw.githubusercontent.com/nickhass3/youtube-analytics/main/data/Aggregated_Metrics_By_Video.csv\n",
        "# !wget https://github.com/nickhass3/youtube-analytics/raw/main/data/All_Comments_Final.csv\n",
        "# !wget https://github.com/nickhass3/youtube-analytics/raw/main/data/Video_Performance_Over_Time.csv\n",
        "\n"
      ]
    },
    {
      "cell_type": "code",
      "source": [
        "!wget https://raw.githubusercontent.com/NathanJackyLee/ML/main/ThumbsUp_Base_Dataset.csv\n",
        "RAW = pd.read_csv(\"/content/ThumbsUp_Base_Dataset.csv\")"
      ],
      "metadata": {
        "id": "ndqJUY7NNK3h"
      },
      "execution_count": null,
      "outputs": []
    },
    {
      "cell_type": "code",
      "source": [
        "!wget https://raw.githubusercontent.com/NathanJackyLee/ML/main/TmbFilesize.csv\n",
        "!wget https://raw.githubusercontent.com/NathanJackyLee/ML/main/TitleSentiment.csv\n",
        "!wget https://raw.githubusercontent.com/NathanJackyLee/ML/main/OCRData.csv\n",
        "!wget https://raw.githubusercontent.com/NathanJackyLee/ML/main/FacialData.csv"
      ],
      "metadata": {
        "id": "OOy0UvGwOM3v"
      },
      "execution_count": null,
      "outputs": []
    },
    {
      "cell_type": "code",
      "source": [
        "id = RAW['vidid']"
      ],
      "metadata": {
        "id": "z4FR2ZIPwn7g"
      },
      "execution_count": null,
      "outputs": []
    },
    {
      "cell_type": "code",
      "source": [
        "TFS = pd.read_csv('TmbFilesize.csv')\n",
        "TSN = pd.read_csv('TitleSentiment.csv')\n",
        "OCR = pd.read_csv('OCRData.csv')\n",
        "FAC = pd.read_csv('FacialData.csv')"
      ],
      "metadata": {
        "id": "wiiLewcJuPjt"
      },
      "execution_count": null,
      "outputs": []
    },
    {
      "cell_type": "code",
      "source": [
        "FAC = FAC.drop(columns=['Unnamed: 0'])\n",
        "FAC['vidid'] = id"
      ],
      "metadata": {
        "id": "NHDfPn6-u5ge"
      },
      "execution_count": null,
      "outputs": []
    },
    {
      "cell_type": "code",
      "source": [
        "FAC.to_csv('FacialData.csv', encoding = 'utf-8-sig')\n",
        "files.download('FacialData.csv')"
      ],
      "metadata": {
        "colab": {
          "base_uri": "https://localhost:8080/",
          "height": 17
        },
        "id": "2QqItxYK2FnE",
        "outputId": "5837eb8b-e942-4ecc-e84e-f8d6be36f3fb"
      },
      "execution_count": null,
      "outputs": [
        {
          "output_type": "display_data",
          "data": {
            "text/plain": [
              "<IPython.core.display.Javascript object>"
            ],
            "application/javascript": [
              "\n",
              "    async function download(id, filename, size) {\n",
              "      if (!google.colab.kernel.accessAllowed) {\n",
              "        return;\n",
              "      }\n",
              "      const div = document.createElement('div');\n",
              "      const label = document.createElement('label');\n",
              "      label.textContent = `Downloading \"${filename}\": `;\n",
              "      div.appendChild(label);\n",
              "      const progress = document.createElement('progress');\n",
              "      progress.max = size;\n",
              "      div.appendChild(progress);\n",
              "      document.body.appendChild(div);\n",
              "\n",
              "      const buffers = [];\n",
              "      let downloaded = 0;\n",
              "\n",
              "      const channel = await google.colab.kernel.comms.open(id);\n",
              "      // Send a message to notify the kernel that we're ready.\n",
              "      channel.send({})\n",
              "\n",
              "      for await (const message of channel.messages) {\n",
              "        // Send a message to notify the kernel that we're ready.\n",
              "        channel.send({})\n",
              "        if (message.buffers) {\n",
              "          for (const buffer of message.buffers) {\n",
              "            buffers.push(buffer);\n",
              "            downloaded += buffer.byteLength;\n",
              "            progress.value = downloaded;\n",
              "          }\n",
              "        }\n",
              "      }\n",
              "      const blob = new Blob(buffers, {type: 'application/binary'});\n",
              "      const a = document.createElement('a');\n",
              "      a.href = window.URL.createObjectURL(blob);\n",
              "      a.download = filename;\n",
              "      div.appendChild(a);\n",
              "      a.click();\n",
              "      div.remove();\n",
              "    }\n",
              "  "
            ]
          },
          "metadata": {}
        },
        {
          "output_type": "display_data",
          "data": {
            "text/plain": [
              "<IPython.core.display.Javascript object>"
            ],
            "application/javascript": [
              "download(\"download_04844940-e955-4e40-8b1d-31d2243b8733\", \"FacialData.csv\", 158864)"
            ]
          },
          "metadata": {}
        }
      ]
    },
    {
      "cell_type": "code",
      "source": [
        "TFS = TFS.drop(columns=['Unnamed: 0'])\n",
        "TFS['vidid'] = id"
      ],
      "metadata": {
        "id": "rXgR9YwixBMd"
      },
      "execution_count": null,
      "outputs": []
    },
    {
      "cell_type": "code",
      "source": [
        "TFS.to_csv('TmbFilesize.csv', encoding = 'utf-8-sig')\n",
        "files.download('TmbFilesize.csv')"
      ],
      "metadata": {
        "colab": {
          "base_uri": "https://localhost:8080/",
          "height": 17
        },
        "id": "Gk52Ur352TEL",
        "outputId": "815d12d5-e2bf-40f8-ae06-c6c070f751eb"
      },
      "execution_count": null,
      "outputs": [
        {
          "output_type": "display_data",
          "data": {
            "text/plain": [
              "<IPython.core.display.Javascript object>"
            ],
            "application/javascript": [
              "\n",
              "    async function download(id, filename, size) {\n",
              "      if (!google.colab.kernel.accessAllowed) {\n",
              "        return;\n",
              "      }\n",
              "      const div = document.createElement('div');\n",
              "      const label = document.createElement('label');\n",
              "      label.textContent = `Downloading \"${filename}\": `;\n",
              "      div.appendChild(label);\n",
              "      const progress = document.createElement('progress');\n",
              "      progress.max = size;\n",
              "      div.appendChild(progress);\n",
              "      document.body.appendChild(div);\n",
              "\n",
              "      const buffers = [];\n",
              "      let downloaded = 0;\n",
              "\n",
              "      const channel = await google.colab.kernel.comms.open(id);\n",
              "      // Send a message to notify the kernel that we're ready.\n",
              "      channel.send({})\n",
              "\n",
              "      for await (const message of channel.messages) {\n",
              "        // Send a message to notify the kernel that we're ready.\n",
              "        channel.send({})\n",
              "        if (message.buffers) {\n",
              "          for (const buffer of message.buffers) {\n",
              "            buffers.push(buffer);\n",
              "            downloaded += buffer.byteLength;\n",
              "            progress.value = downloaded;\n",
              "          }\n",
              "        }\n",
              "      }\n",
              "      const blob = new Blob(buffers, {type: 'application/binary'});\n",
              "      const a = document.createElement('a');\n",
              "      a.href = window.URL.createObjectURL(blob);\n",
              "      a.download = filename;\n",
              "      div.appendChild(a);\n",
              "      a.click();\n",
              "      div.remove();\n",
              "    }\n",
              "  "
            ]
          },
          "metadata": {}
        },
        {
          "output_type": "display_data",
          "data": {
            "text/plain": [
              "<IPython.core.display.Javascript object>"
            ],
            "application/javascript": [
              "download(\"download_f1cbea5d-d54d-420e-9451-62620b852b61\", \"TmbFilesize.csv\", 35511)"
            ]
          },
          "metadata": {}
        }
      ]
    },
    {
      "cell_type": "code",
      "source": [
        "OCR['tmb_text'] = OCR['tmb_text'].astype(str)\n",
        "\n",
        "ocrleg = []\n",
        "for txt in OCR['tmb_text']:\n",
        "  if txt == 'nan':\n",
        "    ocrleg.append(0)\n",
        "  else:\n",
        "    ocrleg.append(len(txt))\n",
        "\n",
        "OCR['text_length'] = ocrleg\n"
      ],
      "metadata": {
        "id": "zS9hFppixmaw"
      },
      "execution_count": null,
      "outputs": []
    },
    {
      "cell_type": "code",
      "source": [
        "RAW['title'] = RAW['title'].astype(str)\n",
        "titleg = []\n",
        "for txt in RAW['title']:\n",
        "  if txt == 'nan':\n",
        "    titleg.append(0)\n",
        "  else:\n",
        "    titleg.append(len(txt))"
      ],
      "metadata": {
        "id": "yUVkhm5Ty1hj"
      },
      "execution_count": null,
      "outputs": []
    },
    {
      "cell_type": "code",
      "source": [
        "tneg = TSN['negative'].astype(float)\n",
        "tpos = TSN['positive'].astype(float)\n",
        "mneg = OCR['negative'].astype(float)\n",
        "mpos = OCR['positive'].astype(float)\n",
        "\n",
        "comsen = []\n",
        "for i in range(len(tneg)):\n",
        "  comsen.append((tpos[i] + mpos[i] - tneg[i] - mneg[i]) /2)"
      ],
      "metadata": {
        "id": "PrLJS7gczrIE"
      },
      "execution_count": null,
      "outputs": []
    },
    {
      "cell_type": "code",
      "source": [
        "comsen"
      ],
      "metadata": {
        "id": "1MP4d2gx0ukN"
      },
      "execution_count": null,
      "outputs": []
    },
    {
      "cell_type": "code",
      "source": [
        "TEXAS = pd.DataFrame()\n",
        "TEXAS['vidid'] = id\n",
        "TEXAS['title_text'] = RAW['title']\n",
        "TEXAS['title_length'] = titleg\n",
        "TEXAS['tmb_text'] = OCR['tmb_text']\n",
        "TEXAS['tmb_length'] = ocrleg\n",
        "TEXAS['composite_sentiment'] = comsen"
      ],
      "metadata": {
        "id": "KBWlc5n3yq-H"
      },
      "execution_count": null,
      "outputs": []
    },
    {
      "cell_type": "code",
      "source": [
        "TEXAS"
      ],
      "metadata": {
        "id": "Bq0fgd3l1f9J"
      },
      "execution_count": null,
      "outputs": []
    },
    {
      "cell_type": "code",
      "source": [
        "TEXAS.to_csv('TextData.csv', encoding = 'utf-8-sig')\n",
        "files.download('TextData.csv')"
      ],
      "metadata": {
        "colab": {
          "base_uri": "https://localhost:8080/",
          "height": 17
        },
        "id": "PvWEofuT1oXp",
        "outputId": "3ac8355a-59ca-411e-8e86-bb3dc1b0ad63"
      },
      "execution_count": null,
      "outputs": [
        {
          "output_type": "display_data",
          "data": {
            "text/plain": [
              "<IPython.core.display.Javascript object>"
            ],
            "application/javascript": [
              "\n",
              "    async function download(id, filename, size) {\n",
              "      if (!google.colab.kernel.accessAllowed) {\n",
              "        return;\n",
              "      }\n",
              "      const div = document.createElement('div');\n",
              "      const label = document.createElement('label');\n",
              "      label.textContent = `Downloading \"${filename}\": `;\n",
              "      div.appendChild(label);\n",
              "      const progress = document.createElement('progress');\n",
              "      progress.max = size;\n",
              "      div.appendChild(progress);\n",
              "      document.body.appendChild(div);\n",
              "\n",
              "      const buffers = [];\n",
              "      let downloaded = 0;\n",
              "\n",
              "      const channel = await google.colab.kernel.comms.open(id);\n",
              "      // Send a message to notify the kernel that we're ready.\n",
              "      channel.send({})\n",
              "\n",
              "      for await (const message of channel.messages) {\n",
              "        // Send a message to notify the kernel that we're ready.\n",
              "        channel.send({})\n",
              "        if (message.buffers) {\n",
              "          for (const buffer of message.buffers) {\n",
              "            buffers.push(buffer);\n",
              "            downloaded += buffer.byteLength;\n",
              "            progress.value = downloaded;\n",
              "          }\n",
              "        }\n",
              "      }\n",
              "      const blob = new Blob(buffers, {type: 'application/binary'});\n",
              "      const a = document.createElement('a');\n",
              "      a.href = window.URL.createObjectURL(blob);\n",
              "      a.download = filename;\n",
              "      div.appendChild(a);\n",
              "      a.click();\n",
              "      div.remove();\n",
              "    }\n",
              "  "
            ]
          },
          "metadata": {}
        },
        {
          "output_type": "display_data",
          "data": {
            "text/plain": [
              "<IPython.core.display.Javascript object>"
            ],
            "application/javascript": [
              "download(\"download_9df6329b-d9d8-4b85-b21e-f0fe2df4732c\", \"TextData.csv\", 183526)"
            ]
          },
          "metadata": {}
        }
      ]
    },
    {
      "cell_type": "code",
      "source": [
        "def evacuate(column, name = 'EVAC'):\n",
        "  EVAC = pd.DataFrame(column)\n",
        "  nm = name + '.csv'\n",
        "  EVAC.to_csv(nm, encoding = 'utf-8-sig')\n",
        "  files.download(nm)"
      ],
      "metadata": {
        "id": "anS_blBLMmMw"
      },
      "execution_count": null,
      "outputs": []
    },
    {
      "cell_type": "code",
      "source": [
        "def corel(column, label = 'data'):\n",
        "  df = pd.DataFrame()\n",
        "  df[label] = column\n",
        "  df['views'] = RAW['views']\n",
        "  df['VpS'] = RAW['views']/RAW['channelSubs']\n",
        "  cor = df.corr()\n",
        "  sb.heatmap(cor, annot=True)\n",
        "  plt.show()\n",
        "\n",
        "def pairot(column, label = 'data'):\n",
        "  df = pd.DataFrame()\n",
        "  df[label] = column\n",
        "  df['views'] = RAW['views']\n",
        "  df['VpS'] = RAW['views']/RAW['channelSubs']\n",
        "  sb.pairplot(df)\n",
        "  plt.show()\n",
        "\n",
        "def evacuate(column, name = 'EVAC'):\n",
        "  EVAC = pd.DataFrame(column)\n",
        "  nm = name + '.csv'\n",
        "  EVAC.to_csv(nm, encoding = 'utf-8-sig')\n",
        "  files.download(nm)"
      ],
      "metadata": {
        "id": "VAyU8wjZAP4a"
      },
      "execution_count": null,
      "outputs": []
    },
    {
      "cell_type": "code",
      "source": [
        "global_average = np.average(RAW['views'])\n",
        "qual = []\n",
        "gual = []\n",
        "for i in range(len(RAW)):\n",
        "  if RAW['views'][i] > RAW['avgViews/Video'][i]:\n",
        "    qual.append(1)\n",
        "  else:\n",
        "    qual.append(0)\n",
        "  if RAW['views'][i] > global_average:\n",
        "    gual.append(1)\n",
        "  else:\n",
        "    gual.append(0)"
      ],
      "metadata": {
        "id": "hW6-eZ-gRiwo"
      },
      "execution_count": null,
      "outputs": []
    },
    {
      "cell_type": "code",
      "source": [
        "def prosecute(col):\n",
        "  gud = []\n",
        "  bad = []\n",
        "  for i in range(1600):\n",
        "    if qual[i] == 1:\n",
        "      gud.append(col[i])\n",
        "    else:\n",
        "      bad.append(col[i])\n",
        "  return gud,bad"
      ],
      "metadata": {
        "id": "41VFViQaSDAV"
      },
      "execution_count": null,
      "outputs": []
    },
    {
      "cell_type": "code",
      "source": [
        "def prosegute(col):\n",
        "  gud = []\n",
        "  bad = []\n",
        "  for i in range(1600):\n",
        "    if gual[i] == 1:\n",
        "      gud.append(col[i])\n",
        "    else:\n",
        "      bad.append(col[i])\n",
        "  return gud,bad"
      ],
      "metadata": {
        "id": "3qb5B9lxk6hf"
      },
      "execution_count": null,
      "outputs": []
    },
    {
      "cell_type": "code",
      "source": [
        "def scag(col, xlim = 0, xstep = 0, xlabel = 'bruh'):\n",
        "  xx = max(col)\n",
        "  if xlim > 0:\n",
        "    xx = xlim\n",
        "  if xstep > 0:\n",
        "    plt.xticks(np.arange(0, xx, xstep))\n",
        "  plt.xlim([-0.05,xx])\n",
        "  plt.rcParams['font.size'] = '22'\n",
        "  plt.scagter(col, RAW['views'])\n",
        "  plt.ylabel('views')\n",
        "  plt.xlabel(xlabel)\n",
        "  plt.show()\n",
        "\n",
        "def scal(col, xlim = 0, xstep = 0, xlabel = 'bruh'):\n",
        "  xx = max(col)\n",
        "  if xlim > 0:\n",
        "    xx = xlim\n",
        "  if xstep > 0:\n",
        "    plt.xticks(np.arange(0, xx, xstep))\n",
        "  plt.xlim([-0.01,xx])\n",
        "\n",
        "  plt.rcParams['font.size'] = '24'\n",
        "  plt.scagter(col, RAW['views']/RAW['avgViews/Video'])\n",
        "  plt.ylabel('views/local average')\n",
        "  plt.xlabel(xlabel)\n",
        "  # plt.xticks(np.arange(0, 11, 1))\n",
        "  plt.show()"
      ],
      "metadata": {
        "id": "euU2Re5xt_pe"
      },
      "execution_count": null,
      "outputs": []
    },
    {
      "cell_type": "code",
      "source": [
        "def boxe(col, step = 0, ylim = 0, ylabel = 'the data in question'):\n",
        "  lgud,lbad = prosecute(col)\n",
        "  ggud,gbad = prosegute(col)\n",
        "  tower = []\n",
        "  for i in col:\n",
        "    tower.append(dict(data = i, group = 'all\\nvideos'))\n",
        "  for i in lgud:\n",
        "    tower.append(dict(data = i, group = 'local\\nabove\\navg'))\n",
        "  for i in lbad:\n",
        "    tower.append(dict(data = i, group = 'local\\nbelow\\navg'))\n",
        "  for i in ggud:\n",
        "    tower.append(dict(data = i, group = 'global\\nabove\\navg'))\n",
        "  for i in gbad:\n",
        "    tower.append(dict(data = i, group = 'global\\nbelow\\navg'))\n",
        "  tower = pd.DataFrame(tower)\n",
        "  # plt.rcParams['font.serif'] = \"Times New Roman\"\n",
        "  # plt.rcParams['font.family'] = \"serif\"\n",
        "  plt.rcParams[\"figure.figsize\"] = [7.0, 6.0]\n",
        "  plt.rcParams[\"figure.autolayout\"] = True\n",
        "  plt.rcParams['font.size'] = '20'\n",
        "  tower.boxplot(by = 'group', column = ['data'], grid = False)\n",
        "  if step > 0:\n",
        "    plt.yticks(np.arange(0, max(col), step))\n",
        "  if ylim > 0:\n",
        "    plt.ylim([-0.05,ylim])\n",
        "  plt.ylabel(ylabel)\n",
        "  plt.show()"
      ],
      "metadata": {
        "id": "Eq-Lfb9EWmyN"
      },
      "execution_count": null,
      "outputs": []
    },
    {
      "cell_type": "markdown",
      "source": [
        "# Thumbnail complexity (JPEG File Size)"
      ],
      "metadata": {
        "id": "grbUfyOoPP6o"
      }
    },
    {
      "cell_type": "code",
      "execution_count": null,
      "metadata": {
        "id": "IjIDMbx-9yw_"
      },
      "outputs": [],
      "source": [
        "TMBFS = pd.read_csv('/content/TmbFilesize.csv')\n",
        "TMBFS = TMBFS.drop(['Unnamed: 0'],axis=1)"
      ]
    },
    {
      "cell_type": "code",
      "source": [
        "scag(TMBFS['TmbFilesize'], xlim = 65000, xstep = 15000, xlabel = 'JPEG file size in bytes')\n",
        "scal(TMBFS['TmbFilesize'], xlim = 65000, xstep = 15000, xlabel = 'JPEG file size in bytes')"
      ],
      "metadata": {
        "id": "zyP0m5F3YuBK"
      },
      "execution_count": null,
      "outputs": []
    },
    {
      "cell_type": "code",
      "source": [
        "boxe(TMBFS['TmbFilesize'], step = 10000, ylabel = 'JPEG file size in bytes')"
      ],
      "metadata": {
        "id": "NqpySHj2YZMk"
      },
      "execution_count": null,
      "outputs": []
    },
    {
      "cell_type": "code",
      "execution_count": null,
      "metadata": {
        "id": "2nLMNGUPkL0d"
      },
      "outputs": [],
      "source": [
        "title_len = []\n",
        "for t in RAW['title']:\n",
        "  title_len.append(len(t))\n",
        "# titlen = pd.DataFrame(title_len)"
      ]
    },
    {
      "cell_type": "code",
      "source": [
        "boxe(title_len, ylabel = 'title length')"
      ],
      "metadata": {
        "id": "gGIs7fy2fZnL"
      },
      "execution_count": null,
      "outputs": []
    },
    {
      "cell_type": "code",
      "source": [
        "scag(title_len)\n",
        "scal(title_len)"
      ],
      "metadata": {
        "id": "DKcwKNyaZQhx"
      },
      "execution_count": null,
      "outputs": []
    },
    {
      "cell_type": "code",
      "source": [
        "TITSEN = pd.read_csv('/content/TitleSentiment.csv')\n",
        "TITSEN = TITSEN.drop(['Unnamed: 0'],axis=1)"
      ],
      "metadata": {
        "id": "gjFP7nqSeS2x"
      },
      "execution_count": null,
      "outputs": []
    },
    {
      "cell_type": "code",
      "source": [
        "df = pd.DataFrame()\n",
        "df['positive'] = TITSEN['positive']\n",
        "df['negative'] = TITSEN['negative']\n",
        "df['views'] = RAW['views']\n",
        "cor = df.corr()\n",
        "sb.heatmap(cor, annot=True)\n",
        "plt.show()"
      ],
      "metadata": {
        "id": "l__COPf_jYU6"
      },
      "execution_count": null,
      "outputs": []
    },
    {
      "cell_type": "code",
      "source": [
        "boxe(TITSEN['positive'], ylim = 1, ylabel = 'positive sentiment')"
      ],
      "metadata": {
        "id": "KeY0VEy39FVf"
      },
      "execution_count": null,
      "outputs": []
    },
    {
      "cell_type": "code",
      "source": [
        "scal(TITSEN['positive'], xlabel = 'positive sentiment')"
      ],
      "metadata": {
        "id": "MNqZelGz9FZn"
      },
      "execution_count": null,
      "outputs": []
    },
    {
      "cell_type": "code",
      "source": [
        "boxe(TITSEN['negative'], ylim = 1, ylabel = 'negative sentiment')"
      ],
      "metadata": {
        "id": "8xUr7rjJCMmd"
      },
      "execution_count": null,
      "outputs": []
    },
    {
      "cell_type": "code",
      "source": [
        "scal(TITSEN['negative'], xlabel = 'negative sentiment')"
      ],
      "metadata": {
        "id": "oAJoxSDBCZ3P"
      },
      "execution_count": null,
      "outputs": []
    },
    {
      "cell_type": "code",
      "source": [
        "OK = pd.read_csv('/content/OCRData.csv')\n",
        "OK = OK.drop(['Unnamed: 0'],axis=1)"
      ],
      "metadata": {
        "id": "NT1iW1eHfDKI"
      },
      "execution_count": null,
      "outputs": []
    },
    {
      "cell_type": "code",
      "source": [
        "OK['tmb_text'] = OK['tmb_text'].astype(str)\n",
        "for i in range(1600):\n",
        "  if OK['tmb_text'][i].lower() == 'nan':\n",
        "    OK['tmb_text'][i] = ''"
      ],
      "metadata": {
        "id": "hBbJMurPnU1S"
      },
      "execution_count": null,
      "outputs": []
    },
    {
      "cell_type": "code",
      "source": [
        "tmblen = []\n",
        "for t in OK['tmb_text']:\n",
        "  tmblen.append(len(t))"
      ],
      "metadata": {
        "id": "sk41tXchnvw-"
      },
      "execution_count": null,
      "outputs": []
    },
    {
      "cell_type": "code",
      "source": [
        "df = pd.DataFrame()\n",
        "df['tmblen'] = tmblen\n",
        "df['views'] = RAW['VpV']\n",
        "cor = df.corr()\n",
        "sb.heatmap(cor, annot=True)\n",
        "plt.show()"
      ],
      "metadata": {
        "id": "O6IDuWLKl8GM"
      },
      "execution_count": null,
      "outputs": []
    },
    {
      "cell_type": "code",
      "source": [
        "boxe(tmblen, ylabel = 'thumbnail text length')"
      ],
      "metadata": {
        "id": "LcGDyOZVoAH_"
      },
      "execution_count": null,
      "outputs": []
    },
    {
      "cell_type": "code",
      "source": [
        "scag(tmblen, xlim = 300, xlabel = 'thumbnail text length')\n",
        "scal(tmblen, xlim = 300, xlabel = 'thumbnail text length')"
      ],
      "metadata": {
        "id": "DZk6ppE_kf6Z"
      },
      "execution_count": null,
      "outputs": []
    },
    {
      "cell_type": "code",
      "source": [
        "boxe(OK['positive'], ylabel = 'positive sentiment')\n",
        "# boxe(OK['neutral'])\n",
        "boxe(OK['negative'], ylabel = 'negative sentiment')"
      ],
      "metadata": {
        "id": "4h2tBgBtoUeS"
      },
      "execution_count": null,
      "outputs": []
    },
    {
      "cell_type": "code",
      "source": [
        "df = pd.DataFrame()\n",
        "df['positive'] = OK['positive']\n",
        "df['negative'] = OK['negative']\n",
        "df['views'] = RAW['views']\n",
        "cor = df.corr()\n",
        "sb.heatmap(cor, annot=True)\n",
        "plt.show()"
      ],
      "metadata": {
        "id": "bN_qQTt7nlwt"
      },
      "execution_count": null,
      "outputs": []
    },
    {
      "cell_type": "code",
      "source": [
        "scag(OK['positive'])\n",
        "scal(OK['positive'])"
      ],
      "metadata": {
        "id": "Ikkb8K0XnQ4S"
      },
      "execution_count": null,
      "outputs": []
    },
    {
      "cell_type": "markdown",
      "source": [
        "# Face"
      ],
      "metadata": {
        "id": "c5XKViPwN1Ws"
      }
    },
    {
      "cell_type": "code",
      "source": [
        "fed = pd.read_csv('/content/FacialData.csv')\n",
        "fed = fed.drop(['Unnamed: 0'],axis=1)"
      ],
      "metadata": {
        "id": "vLS-m_WooZQg"
      },
      "execution_count": null,
      "outputs": []
    },
    {
      "cell_type": "code",
      "source": [
        "df = pd.DataFrame()\n",
        "df['faceCount'] = fed['faceCount']\n",
        "df['faceCover'] = fed['faceCover']\n",
        "df['views'] = RAW['views']\n",
        "cor = df.corr()\n",
        "sb.heatmap(cor, annot=True)\n",
        "plt.show()"
      ],
      "metadata": {
        "id": "9GwX8VnlvMPp"
      },
      "execution_count": null,
      "outputs": []
    },
    {
      "cell_type": "code",
      "source": [
        "boxe(fed['faceCount'], ylabel = \"face count\")"
      ],
      "metadata": {
        "id": "8p9mS2WRFyCi"
      },
      "execution_count": null,
      "outputs": []
    },
    {
      "cell_type": "code",
      "source": [
        "scal(fed['faceCount'], xlim = 10, xlabel = \"face count\")"
      ],
      "metadata": {
        "id": "jPzMhl74F_D-"
      },
      "execution_count": null,
      "outputs": []
    },
    {
      "cell_type": "code",
      "source": [
        "boxe(fed['faceCover'], ylabel = \"face cover\", step = 0.05)"
      ],
      "metadata": {
        "id": "hjQF_DzIqAOI"
      },
      "execution_count": null,
      "outputs": []
    },
    {
      "cell_type": "code",
      "source": [
        "# scag(fed['faceCover'])\n",
        "scal(fed['faceCover'], xlabel = \"face cover\", xlim = 0.3)"
      ],
      "metadata": {
        "id": "NG9sQABFvDGd"
      },
      "execution_count": null,
      "outputs": []
    },
    {
      "cell_type": "code",
      "source": [
        "boxe(fed['maxHappy'], ylabel = \"happy expression\")"
      ],
      "metadata": {
        "id": "AJ-gRgyVLycN"
      },
      "execution_count": null,
      "outputs": []
    },
    {
      "cell_type": "code",
      "source": [
        "scag(fed['maxHappy'], xlabel = \"happy expression\", xstep = 0.2)"
      ],
      "metadata": {
        "id": "75TkckFEMOwP"
      },
      "execution_count": null,
      "outputs": []
    },
    {
      "cell_type": "code",
      "source": [
        "boxe(fed['maxSurprise'], ylabel = \"surprised expression\")"
      ],
      "metadata": {
        "id": "Z29nvKF7NZIb"
      },
      "execution_count": null,
      "outputs": []
    },
    {
      "cell_type": "code",
      "source": [
        "scag(fed['maxSurprise'], xlabel = \"surprised expression\", xstep = 0.2)"
      ],
      "metadata": {
        "colab": {
          "base_uri": "https://localhost:8080/",
          "height": 570
        },
        "id": "7nernWhFNlhy",
        "outputId": "af72acb1-553d-43fa-e472-976572627ba3"
      },
      "execution_count": null,
      "outputs": [
        {
          "output_type": "display_data",
          "data": {
            "text/plain": [
              "<Figure size 700x600 with 1 Axes>"
            ],
            "image/png": "[encoded data removed]"
          },
          "metadata": {}
        }
      ]
    },
    {
      "cell_type": "code",
      "source": [
        "boxe(fed['maxAngry'])\n",
        "boxe(fed['maxDisgust'])\n",
        "boxe(fed['maxFear'])\n",
        "boxe(fed['maxHappy'])\n",
        "boxe(fed['maxSad'])\n",
        "boxe(fed['maxSurprise'])\n",
        "boxe(fed['maxNeutral'])"
      ],
      "metadata": {
        "id": "IW6a-gVpu8XC"
      },
      "execution_count": null,
      "outputs": []
    },
    {
      "cell_type": "code",
      "source": [
        "scag(fed['maxAngry'])\n",
        "scag(fed['maxDisgust'])\n",
        "scag(fed['maxFear'])\n",
        "scag(fed['maxHappy'])\n",
        "scag(fed['maxSad'])\n",
        "scag(fed['maxSurprise'])\n",
        "scag(fed['maxNeutral'])"
      ],
      "metadata": {
        "id": "2qtmOkOYs4_N"
      },
      "execution_count": null,
      "outputs": []
    },
    {
      "cell_type": "code",
      "source": [
        "scal(fed['maxAngry'])\n",
        "scal(fed['maxDisgust'])\n",
        "scal(fed['maxFear'])\n",
        "scal(fed['maxHappy'])\n",
        "scal(fed['maxSad'])\n",
        "scal(fed['maxSurprise'])\n",
        "scal(fed['maxNeutral'])"
      ],
      "metadata": {
        "id": "ty81dI4zvtP-"
      },
      "execution_count": null,
      "outputs": []
    },
    {
      "cell_type": "code",
      "source": [
        "boxe(fed['faceCount'])\n",
        "boxe(fed['faceCover'])"
      ],
      "metadata": {
        "id": "L0socmfDo4hn"
      },
      "execution_count": null,
      "outputs": []
    },
    {
      "cell_type": "code",
      "source": [
        "boxe(fed['maxAngry'])\n",
        "boxe(fed['maxDisgust'])\n",
        "boxe(fed['maxFear'])\n",
        "boxe(fed['maxHappy'])\n",
        "boxe(fed['maxSad'])\n",
        "boxe(fed['maxSurprise'])\n",
        "boxe(fed['maxNeutral'])"
      ],
      "metadata": {
        "id": "Qi2h4plSp6PD"
      },
      "execution_count": null,
      "outputs": []
    },
    {
      "cell_type": "markdown",
      "source": [
        "# Ignore"
      ],
      "metadata": {
        "id": "JSTodcGJ8dlE"
      }
    },
    {
      "cell_type": "code",
      "source": [
        "Xs = Final[['title len2','anticipation','trust','face neutral']]\n",
        "Ys = Final['views']\n",
        "print(\"linear regression importances\")\n",
        "importances = mutual_info_classif(Xs,Ys)\n",
        "for i in range(len(importances)):\n",
        "  importances[i] *= 100.0\n",
        "print(importances)\n",
        "print(\"\")\n",
        "\n",
        "Xs = Final[['vidlen','tmb_size','title len1','title len2','anticipation','trust','face cover','face count']]\n",
        "Ys = Final['strong video']\n",
        "print(\"logistic regression importances\")\n",
        "importances = mutual_info_classif(Xs,Ys)\n",
        "for i in range(len(importances)):\n",
        "  importances[i] *= 100.0\n",
        "print(importances)\n",
        "print(\"\")\n",
        "\n"
      ],
      "metadata": {
        "colab": {
          "base_uri": "https://localhost:8080/"
        },
        "id": "nzM7wXSr4MqE",
        "outputId": "d9f82b26-67fb-478d-f8a5-afc792726cde"
      },
      "execution_count": null,
      "outputs": [
        {
          "output_type": "stream",
          "name": "stdout",
          "text": [
            "linear regression importances\n",
            "[ 0.  32.5  0.   0. ]\n",
            "\n",
            "logistic regression importances\n",
            "[2.56773388 0.         2.24708593 3.10558269 6.31555216 1.24184547\n",
            " 0.         2.71394138]\n",
            "\n"
          ]
        }
      ]
    },
    {
      "cell_type": "markdown",
      "source": [
        "---------\n",
        "RGB EXTRACTION\n",
        "----------"
      ],
      "metadata": {
        "id": "pSkBpHsyi2pq"
      }
    },
    {
      "cell_type": "code",
      "execution_count": null,
      "metadata": {
        "id": "HX0jkPC9XIa7"
      },
      "outputs": [],
      "source": [
        "# insert library for color harmony if there is .\n",
        "# if i don't get library then maybe make formula from theory\n",
        "# https://neilmcinnes.com/colour-notes-on-the-relationships-of-contrasts-and-harmonies/"
      ]
    },
    {
      "cell_type": "code",
      "source": [
        "!pip install color-harmony"
      ],
      "metadata": {
        "id": "RAhktPZ1n-mu"
      },
      "execution_count": null,
      "outputs": []
    },
    {
      "cell_type": "code",
      "source": [
        "tmbcol = RAW['tmblink']"
      ],
      "metadata": {
        "id": "eWwLwcAbyLDA"
      },
      "execution_count": null,
      "outputs": []
    },
    {
      "cell_type": "code",
      "execution_count": null,
      "metadata": {
        "id": "KnsSaTR0hf74"
      },
      "outputs": [],
      "source": [
        "import colorsys\n",
        "import numpy as np\n",
        "from collections import Counter\n",
        "from PIL import ImageCms, ImageColor\n",
        "from urllib.error import HTTPError\n",
        "# ----------------------------------------------------------\n",
        "\n",
        "# deleting the top and bottom of the image becaue image has black rectangle barrriers on top and below\n",
        "left = 0\n",
        "right = 480\n",
        "top = 44\n",
        "bottom = 315\n",
        "\n",
        "# ----------------------------------------------------------\n",
        "\n",
        "# threshold for color difference\n",
        "color_difference_threshold = 100\n",
        "\n",
        "# Checking euclidean distance between two colors to get different colors\n",
        "def color_difference(c1, c2):\n",
        "    return np.sqrt((c1[0] - c2[0]) ** 2 + (c1[1] - c2[1]) ** 2 + (c1[2] - c2[2]) ** 2)\n",
        "\n",
        "# create a function to check if a color is significantly different from other colors\n",
        "def is_color_different(color, other_colors):\n",
        "    for other_color in other_colors:\n",
        "        if color_difference(color, other_color) < color_difference_threshold:\n",
        "            return False\n",
        "    return True\n",
        "\n",
        "# crate a pandas df to format the output\n",
        "imgdf = pd.DataFrame(columns=['Image Url', 'RGB Value 1', 'RGB Value 2', 'RGB Value 3', 'RGB Value 4', 'RGB Value 5',  'Harmony Score'])\n",
        "\n",
        "# Define a function to convert CMYK to RGB because the image gives me error if extracting RGB directly\n",
        "\n",
        "def cmyk_to_rgb(c, m, y, k):\n",
        "    r = int(max(0, min(255, 255 * (1 - c / 100) * (1 - k / 100))))\n",
        "    g = int(max(0, min(255, 255 * (1 - m / 100) * (1 - k / 100))))\n",
        "    b = int(max(0, min(255, 255 * (1 - y / 100) * (1 - k / 100))))\n",
        "    return (r, g, b)\n",
        "\n",
        "# Main function\n",
        "\n",
        "for link in tmbcol:\n",
        "  try:\n",
        "    urllib.request.urlretrieve(link, 'img.jpg')\n",
        "  except:\n",
        "    print(f\"HTTPError occurred while retrieving image from URL: {link}\")\n",
        "    continue\n",
        "\n",
        "  img = Image.open('img.jpg')\n",
        "  cropped_image = img.crop((left, top, right, bottom))\n",
        "\n",
        "  img_cmyk = cropped_image.convert('CMYK')\n",
        "\n",
        "  pixels = list(img_cmyk.getdata())\n",
        "\n",
        "  color_count = Counter(pixels)\n",
        "\n",
        "  most_different_colors = []\n",
        "\n",
        "  complementary_colors = []\n",
        "\n",
        "  for color in pixels:\n",
        "    c,m,y,k = color\n",
        "    rgb = cmyk_to_rgb(c,m,y,k)\n",
        "    if is_color_different(rgb, most_different_colors):\n",
        "      most_different_colors.append(rgb)\n",
        "      if len(most_different_colors) == 5:\n",
        "        break\n",
        "\n",
        "  for color in most_different_colors:\n",
        "    complementary_color = (255 - color[0], 255 - color[1], 255 - color[2])\n",
        "    complementary_colors.append(complementary_color)\n",
        "\n",
        "  harmony_scores = []\n",
        "  for i, color in enumerate(most_different_colors):\n",
        "    complementary_color = complementary_colors[i];\n",
        "    harmony_score = 0\n",
        "    for j, other_color in enumerate(most_different_colors):\n",
        "      if i != j:\n",
        "        distance = color_difference(complementary_color, other_color)\n",
        "        harmony_score +=distance\n",
        "    harmony_scores.append(harmony_score)\n",
        "\n",
        "  harmony_score_total = [sum(harmony_scores)]\n",
        "\n",
        "  # Append the harmony scores to the row list\n",
        "  row = [link] + most_different_colors + harmony_score_total\n",
        "\n",
        "  # Add the row to the DataFrame\n",
        "  try:\n",
        "    imgdf.loc[len(imgdf)] = row\n",
        "  except:\n",
        "    imgdf.loc[len(imgdf)] = imgdf.loc[len(imgdf)-1]\n",
        "\n",
        "  # Printing phase\n",
        "  # print(f\"\\nFor image {link}, the 5 most different colors are:\")\n",
        "\n",
        "  # UnComment to show picture\n",
        "  img_cmyk.show()\n",
        "  print(\"\")\n",
        "\n",
        "\n",
        "  # loop through all img\n",
        "\n",
        "  for color in most_different_colors:\n",
        "    im = Image.new('RGB', (10, 10), (color[0], color[1], color[2]))\n",
        "    print(f\"RGB({color[0]}, {color[1]}, {color[2]})\")\n",
        "\n",
        "    # UnComment to show the color of the RGB value\n",
        "    im.show()\n",
        "    print(\"\")"
      ]
    },
    {
      "cell_type": "code",
      "source": [
        "print(len(row))\n",
        "print(len(imgdf.columns))"
      ],
      "metadata": {
        "colab": {
          "base_uri": "https://localhost:8080/"
        },
        "id": "6O7LEfAH2ZGF",
        "outputId": "23b983e4-5e4e-49cc-d4d2-81801bae6b9e"
      },
      "execution_count": null,
      "outputs": [
        {
          "output_type": "stream",
          "name": "stdout",
          "text": [
            "7\n",
            "7\n"
          ]
        }
      ]
    },
    {
      "cell_type": "code",
      "source": [
        "# imgdf == Pandas Dataframe buat Image URL + 5 colors (color pallete) *Succesfully completed array of unique pictures\n",
        "# display(imgdf.head())\n",
        "\n",
        "# Johannes Itten Theory of color harmony?\n",
        "\n",
        "meanvalue = imgdf['Harmony Score'].mean()\n",
        "print(\"Mean:\",meanvalue)\n",
        "print(\"Max:\",imgdf['Harmony Score'].max())\n",
        "print(\"Min:\",imgdf['Harmony Score'].min())\n",
        "\n",
        "# imgdf['Harmony Score'] = np.where(imgdf['Harmony Score'] > 4574.037266504805 , 0, 1)\n",
        "display(imgdf)"
      ],
      "metadata": {
        "id": "SOENjvsrHo3q"
      },
      "execution_count": null,
      "outputs": []
    },
    {
      "cell_type": "code",
      "source": [
        "evacuate(imgdf['Harmony Score'], 'ColorHarmony')"
      ],
      "metadata": {
        "colab": {
          "base_uri": "https://localhost:8080/",
          "height": 17
        },
        "id": "U6STeV44l3lS",
        "outputId": "70901622-7572-4127-a522-269f925ced2c"
      },
      "execution_count": null,
      "outputs": [
        {
          "output_type": "display_data",
          "data": {
            "text/plain": [
              "<IPython.core.display.Javascript object>"
            ],
            "application/javascript": [
              "\n",
              "    async function download(id, filename, size) {\n",
              "      if (!google.colab.kernel.accessAllowed) {\n",
              "        return;\n",
              "      }\n",
              "      const div = document.createElement('div');\n",
              "      const label = document.createElement('label');\n",
              "      label.textContent = `Downloading \"${filename}\": `;\n",
              "      div.appendChild(label);\n",
              "      const progress = document.createElement('progress');\n",
              "      progress.max = size;\n",
              "      div.appendChild(progress);\n",
              "      document.body.appendChild(div);\n",
              "\n",
              "      const buffers = [];\n",
              "      let downloaded = 0;\n",
              "\n",
              "      const channel = await google.colab.kernel.comms.open(id);\n",
              "      // Send a message to notify the kernel that we're ready.\n",
              "      channel.send({})\n",
              "\n",
              "      for await (const message of channel.messages) {\n",
              "        // Send a message to notify the kernel that we're ready.\n",
              "        channel.send({})\n",
              "        if (message.buffers) {\n",
              "          for (const buffer of message.buffers) {\n",
              "            buffers.push(buffer);\n",
              "            downloaded += buffer.byteLength;\n",
              "            progress.value = downloaded;\n",
              "          }\n",
              "        }\n",
              "      }\n",
              "      const blob = new Blob(buffers, {type: 'application/binary'});\n",
              "      const a = document.createElement('a');\n",
              "      a.href = window.URL.createObjectURL(blob);\n",
              "      a.download = filename;\n",
              "      div.appendChild(a);\n",
              "      a.click();\n",
              "      div.remove();\n",
              "    }\n",
              "  "
            ]
          },
          "metadata": {}
        },
        {
          "output_type": "display_data",
          "data": {
            "text/plain": [
              "<IPython.core.display.Javascript object>"
            ],
            "application/javascript": [
              "download(\"download_78036a94-e05c-412e-bbc0-b57183892a40\", \"ColorHarmony.csv\", 36164)"
            ]
          },
          "metadata": {}
        }
      ]
    },
    {
      "cell_type": "code",
      "source": [
        "harmony_score_values = imgdf['Harmony Score']\n",
        "\n",
        "# Plotting the distribution of harmony scores\n",
        "plt.figure(figsize=(8, 6))\n",
        "plt.hist(harmony_score_values, bins=20, color='green')\n",
        "plt.xlabel('Harmony Score')\n",
        "plt.ylabel('Frequency')\n",
        "plt.title('Distribution of Harmony Scores')\n",
        "plt.grid(True)\n",
        "plt.show()\n"
      ],
      "metadata": {
        "id": "2PsvtEjd148s"
      },
      "execution_count": null,
      "outputs": []
    },
    {
      "cell_type": "code",
      "source": [
        "boxe(imgdf['Harmony Score'])"
      ],
      "metadata": {
        "id": "do7-XtLv3IK8"
      },
      "execution_count": null,
      "outputs": []
    }
  ],
  "metadata": {
    "colab": {
      "provenance": [],
      "collapsed_sections": [
        "JSTodcGJ8dlE"
      ],
      "include_colab_link": true
    },
    "kernelspec": {
      "display_name": "Python 3",
      "name": "python3"
    },
    "language_info": {
      "name": "python"
    }
  },
  "nbformat": 4,
  "nbformat_minor": 0
}